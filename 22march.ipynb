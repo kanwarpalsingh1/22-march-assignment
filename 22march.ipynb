{
 "cells": [
  {
   "cell_type": "markdown",
   "id": "cc67fe55-a836-4d47-85e0-5f8b8be02359",
   "metadata": {},
   "source": [
    "Q1. Pearson correlation coefficient is a measure of the linear relationship between two variables. Suppose you have collected data on the amount of time students spend studying for an exam and their final exam scores. Calculate the Pearson correlation coefficient between these two variables and interpret the result.\n",
    "\n",
    "To calculate the Pearson correlation coefficient, you need the covariance and standard deviations of both variables. Once you have these values, you can use the formula:\n",
    "\n",
    "Pearson correlation coefficient\n",
    "=\n",
    "covariance\n",
    "(\n",
    "�\n",
    ",\n",
    "�\n",
    ")\n",
    "standard deviation\n",
    "(\n",
    "�\n",
    ")\n",
    "×\n",
    "standard deviation\n",
    "(\n",
    "�\n",
    ")\n",
    "Pearson correlation coefficient= \n",
    "standard deviation(X)×standard deviation(Y)\n",
    "covariance(X,Y)\n",
    "​\n",
    " \n",
    "\n",
    "Interpretation:\n",
    "\n",
    "If the correlation coefficient is close to 1, it indicates a strong positive linear relationship between the variables. In this case, students who spend more time studying tend to have higher exam scores.\n",
    "If the correlation coefficient is close to -1, it indicates a strong negative linear relationship between the variables. However, in this context, it's unlikely to have a negative correlation since more study time should generally lead to higher exam scores.\n",
    "If the correlation coefficient is close to 0, it indicates no linear relationship between the variables.\n"
   ]
  },
  {
   "cell_type": "markdown",
   "id": "dd1992f0-347c-4745-bb68-aa33025343d7",
   "metadata": {},
   "source": [
    "Q2. Spearman's rank correlation is a measure of the monotonic relationship between two variables. Suppose you have collected data on the amount of sleep individuals get each night and their overall job satisfaction level on a scale of 1 to 10. Calculate the Spearman's rank correlation between these two variables and interpret the result.\n",
    "\n",
    "Spearman's rank correlation assesses how well the relationship between two variables can be described using a monotonic function. To calculate it, you first rank the data and then calculate the Pearson correlation coefficient for the ranks.\n",
    "\n",
    "Interpretation:\n",
    "\n",
    "If the Spearman's rank correlation coefficient is close to 1, it indicates a strong positive monotonic relationship. In this case, individuals who report higher levels of sleep tend to report higher job satisfaction levels.\n",
    "If the coefficient is close to -1, it indicates a strong negative monotonic relationship. However, it's unlikely to have a negative correlation in this scenario.\n",
    "If the coefficient is close to 0, it indicates no monotonic relationship between the variables.\n"
   ]
  },
  {
   "cell_type": "markdown",
   "id": "cafaf402-9c63-4879-8d26-70ec2983a03b",
   "metadata": {},
   "source": [
    "Q3. Suppose you are conducting a study to examine the relationship between the number of hours of exercise per week and body mass index (BMI) in a sample of adults. You collected data on both variables for 50 participants. Calculate the Pearson correlation coefficient and the Spearman's rank correlation between these two variables and compare the results.\n",
    "\n",
    "Calculate both the Pearson correlation coefficient and the Spearman's rank correlation coefficient using the provided formulas for each. Then, compare the results to assess how well each measure captures the relationship between the variables.\n",
    "\n",
    "Interpretation:\n",
    "\n",
    "If both coefficients are similar, it suggests a linear relationship between the variables.\n",
    "If the Pearson correlation coefficient is significantly different from the Spearman's rank correlation coefficient, it suggests that the relationship between the variables may not be linear, and Spearman's rank correlation might provide a better representation of the relationship.\n",
    "\n",
    "\n",
    "\n"
   ]
  },
  {
   "cell_type": "markdown",
   "id": "d619ec1e-e8f8-455f-9085-267fde7715aa",
   "metadata": {},
   "source": [
    "Q4. A researcher is interested in examining the relationship between the number of hours individuals spend watching television per day and their level of physical activity. The researcher collected data on both variables from a sample of 50 participants. Calculate the Pearson correlation coefficient between these two variables.\n",
    "\n",
    "Calculate the Pearson correlation coefficient using the provided formula. Interpret the result to understand the strength and direction of the relationship between the variables.\n",
    "\n",
    "Interpretation:\n",
    "\n",
    "A positive correlation coefficient indicates that as the number of hours spent watching television per day increases, the level of physical activity tends to increase as well.\n",
    "A negative correlation coefficient indicates that as the number of hours spent watching television per day increases, the level of physical activity tends to decrease.\n",
    "A correlation coefficient close to 0 indicates no significant linear relationship between the variables.\n",
    "\n"
   ]
  },
  {
   "cell_type": "markdown",
   "id": "89ae64aa-2bb5-4dd4-a4a0-f7865467cf98",
   "metadata": {},
   "source": [
    "Q6. A company is interested in examining the relationship between the number of sales calls made per day and the number of sales made per week. The company collected data on both variables from a sample of 30 sales representatives. Calculate the Pearson correlation coefficient between these two variables.\n",
    "\n",
    "To calculate the Pearson correlation coefficient between the number of sales calls made per day and the number of sales made per week, you would need the data for both variables for each of the 30 sales representatives. Once you have the data, you can use the following formula to calculate the correlation coefficient:\n",
    "\n",
    "Pearson correlation coefficient\n",
    "=\n",
    "covariance\n",
    "(\n",
    "�\n",
    ",\n",
    "�\n",
    ")\n",
    "standard deviation\n",
    "(\n",
    "�\n",
    ")\n",
    "×\n",
    "standard deviation\n",
    "(\n",
    "�\n",
    ")\n",
    "Pearson correlation coefficient= \n",
    "standard deviation(X)×standard deviation(Y)\n",
    "covariance(X,Y)\n",
    "​\n",
    " \n",
    "\n",
    "Where:\n",
    "\n",
    "X represents the number of sales calls made per day.\n",
    "Y represents the number of sales made per week.\n",
    "You would calculate the covariance and standard deviations of both variables using the sample data, then plug those values into the formula to find the correlation coefficient.\n",
    "\n",
    "If you provide the data for the number of sales calls made per day and the number of sales made per week for each sales representative, I can help you calculate the Pearson correlation coefficient."
   ]
  },
  {
   "cell_type": "code",
   "execution_count": null,
   "id": "9e108c8a-d1fe-4cb6-a3d9-f74e91bc5be8",
   "metadata": {},
   "outputs": [],
   "source": []
  }
 ],
 "metadata": {
  "kernelspec": {
   "display_name": "Python 3 (ipykernel)",
   "language": "python",
   "name": "python3"
  },
  "language_info": {
   "codemirror_mode": {
    "name": "ipython",
    "version": 3
   },
   "file_extension": ".py",
   "mimetype": "text/x-python",
   "name": "python",
   "nbconvert_exporter": "python",
   "pygments_lexer": "ipython3",
   "version": "3.10.8"
  }
 },
 "nbformat": 4,
 "nbformat_minor": 5
}
